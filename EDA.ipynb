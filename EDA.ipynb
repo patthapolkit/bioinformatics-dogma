{
 "cells": [
  {
   "cell_type": "markdown",
   "metadata": {},
   "source": [
    "# EDA"
   ]
  },
  {
   "cell_type": "code",
   "execution_count": 24,
   "metadata": {},
   "outputs": [],
   "source": [
    "import numpy as np\n",
    "import pandas as pd\n",
    "import matplotlib.pyplot as plt\n",
    "\n",
    "plt.style.use(style='ggplot')"
   ]
  },
  {
   "cell_type": "code",
   "execution_count": 25,
   "metadata": {},
   "outputs": [],
   "source": [
    "def parse_fasta_file(file_path):\n",
    "    \"\"\"\n",
    "    Parse a FASTA file and return sequences and labels.\n",
    "    \"\"\"\n",
    "    sequences, labels = [], []\n",
    "    current_sequence = \"\"\n",
    "    with open(file_path, 'r') as file:\n",
    "        for line in file:\n",
    "            line = line.strip()\n",
    "            if line.startswith('>'):\n",
    "                if current_sequence:\n",
    "                    sequences.append(current_sequence)\n",
    "                    current_sequence = \"\"\n",
    "                label = line.split()[-1]\n",
    "                binary_label = 1 if label == \"A-0\" else 0\n",
    "                labels.append(binary_label)\n",
    "            else:\n",
    "                current_sequence += line\n",
    "        if current_sequence:\n",
    "            sequences.append(current_sequence)\n",
    "    return sequences, labels"
   ]
  },
  {
   "cell_type": "markdown",
   "metadata": {},
   "source": [
    "## Sequence Lengths"
   ]
  },
  {
   "cell_type": "markdown",
   "metadata": {},
   "source": [
    "### Train Set"
   ]
  },
  {
   "cell_type": "code",
   "execution_count": 26,
   "metadata": {},
   "outputs": [],
   "source": [
    "from sklearn.model_selection import train_test_split\n",
    "import random\n",
    "import torch"
   ]
  },
  {
   "cell_type": "code",
   "execution_count": 27,
   "metadata": {},
   "outputs": [],
   "source": [
    "seed = 42\n",
    "random.seed(seed)\n",
    "np.random.seed(seed)\n",
    "torch.manual_seed(seed)\n",
    "torch.backends.cudnn.deterministic = True\n",
    "torch.backends.cudnn.benchmark = False"
   ]
  },
  {
   "cell_type": "code",
   "execution_count": 28,
   "metadata": {},
   "outputs": [],
   "source": [
    "train_sequences, train_labels = parse_fasta_file('data/train_dataset.fasta')\n",
    "train_df = pd.DataFrame({'sequence': train_sequences, 'label': train_labels})"
   ]
  },
  {
   "cell_type": "code",
   "execution_count": 29,
   "metadata": {},
   "outputs": [],
   "source": [
    "filtered_train_df = train_df[train_df['sequence'].apply(len) <= 556]"
   ]
  },
  {
   "cell_type": "code",
   "execution_count": 30,
   "metadata": {},
   "outputs": [
    {
     "data": {
      "text/html": [
       "<div>\n",
       "<style scoped>\n",
       "    .dataframe tbody tr th:only-of-type {\n",
       "        vertical-align: middle;\n",
       "    }\n",
       "\n",
       "    .dataframe tbody tr th {\n",
       "        vertical-align: top;\n",
       "    }\n",
       "\n",
       "    .dataframe thead th {\n",
       "        text-align: right;\n",
       "    }\n",
       "</style>\n",
       "<table border=\"1\" class=\"dataframe\">\n",
       "  <thead>\n",
       "    <tr style=\"text-align: right;\">\n",
       "      <th></th>\n",
       "      <th>sequence</th>\n",
       "      <th>label</th>\n",
       "    </tr>\n",
       "  </thead>\n",
       "  <tbody>\n",
       "    <tr>\n",
       "      <th>0</th>\n",
       "      <td>MSDHRAITLEGTTVMVPVYNSTAQQSPYQLTTTADGGVALHHQGEL...</td>\n",
       "      <td>1</td>\n",
       "    </tr>\n",
       "    <tr>\n",
       "      <th>1</th>\n",
       "      <td>MALIIAGERSGVGKTTTTLTLLAALKARQASVQSFKVGPDYIDPMF...</td>\n",
       "      <td>1</td>\n",
       "    </tr>\n",
       "    <tr>\n",
       "      <th>2</th>\n",
       "      <td>MTMATINARIDDDIKNQADEVLKLMNISQTQAIAAFYQYITEQKKL...</td>\n",
       "      <td>1</td>\n",
       "    </tr>\n",
       "    <tr>\n",
       "      <th>3</th>\n",
       "      <td>MTLSKQLNTYITERFKLNYQETWACETVDAMAEDVLPEKYIKNSPL...</td>\n",
       "      <td>1</td>\n",
       "    </tr>\n",
       "    <tr>\n",
       "      <th>4</th>\n",
       "      <td>MKRVLVLGATGRTGSFVIKELSKYKSIQLIAGLRSQKDKERLPKIN...</td>\n",
       "      <td>1</td>\n",
       "    </tr>\n",
       "    <tr>\n",
       "      <th>...</th>\n",
       "      <td>...</td>\n",
       "      <td>...</td>\n",
       "    </tr>\n",
       "    <tr>\n",
       "      <th>70026</th>\n",
       "      <td>HGVQAQLQSRFVKIEDETFSATRLITKAEFAKRTFGNSDLETLKQV...</td>\n",
       "      <td>0</td>\n",
       "    </tr>\n",
       "    <tr>\n",
       "      <th>70027</th>\n",
       "      <td>HGWVTDPPSRQALCASGETSFDCGQISYEPQSVEAPKGATTCSGGN...</td>\n",
       "      <td>0</td>\n",
       "    </tr>\n",
       "    <tr>\n",
       "      <th>70028</th>\n",
       "      <td>HGYIAKPAPSWKASKTNNWVVEIEPQWKGGWDESKGDEGLLATFKE...</td>\n",
       "      <td>0</td>\n",
       "    </tr>\n",
       "    <tr>\n",
       "      <th>70029</th>\n",
       "      <td>HGYVSAVENGVAEGRVTLCKFAANGTGEKNTHCGAIQYEPQSVEGP...</td>\n",
       "      <td>0</td>\n",
       "    </tr>\n",
       "    <tr>\n",
       "      <th>70030</th>\n",
       "      <td>HGYVSSPKSRVIQCKENGIENPTHPACIAAKAAGNGGLYTPQEVAV...</td>\n",
       "      <td>0</td>\n",
       "    </tr>\n",
       "  </tbody>\n",
       "</table>\n",
       "<p>63025 rows × 2 columns</p>\n",
       "</div>"
      ],
      "text/plain": [
       "                                                sequence  label\n",
       "0      MSDHRAITLEGTTVMVPVYNSTAQQSPYQLTTTADGGVALHHQGEL...      1\n",
       "1      MALIIAGERSGVGKTTTTLTLLAALKARQASVQSFKVGPDYIDPMF...      1\n",
       "2      MTMATINARIDDDIKNQADEVLKLMNISQTQAIAAFYQYITEQKKL...      1\n",
       "3      MTLSKQLNTYITERFKLNYQETWACETVDAMAEDVLPEKYIKNSPL...      1\n",
       "4      MKRVLVLGATGRTGSFVIKELSKYKSIQLIAGLRSQKDKERLPKIN...      1\n",
       "...                                                  ...    ...\n",
       "70026  HGVQAQLQSRFVKIEDETFSATRLITKAEFAKRTFGNSDLETLKQV...      0\n",
       "70027  HGWVTDPPSRQALCASGETSFDCGQISYEPQSVEAPKGATTCSGGN...      0\n",
       "70028  HGYIAKPAPSWKASKTNNWVVEIEPQWKGGWDESKGDEGLLATFKE...      0\n",
       "70029  HGYVSAVENGVAEGRVTLCKFAANGTGEKNTHCGAIQYEPQSVEGP...      0\n",
       "70030  HGYVSSPKSRVIQCKENGIENPTHPACIAAKAAGNGGLYTPQEVAV...      0\n",
       "\n",
       "[63025 rows x 2 columns]"
      ]
     },
     "execution_count": 30,
     "metadata": {},
     "output_type": "execute_result"
    }
   ],
   "source": [
    "filtered_train_df"
   ]
  },
  {
   "cell_type": "code",
   "execution_count": 31,
   "metadata": {},
   "outputs": [],
   "source": [
    "train_df1, train_df2 = train_test_split(filtered_train_df, test_size=0.06, stratify=filtered_train_df['label'], random_state=seed)"
   ]
  },
  {
   "cell_type": "code",
   "execution_count": 34,
   "metadata": {},
   "outputs": [
    {
     "data": {
      "text/html": [
       "<div>\n",
       "<style scoped>\n",
       "    .dataframe tbody tr th:only-of-type {\n",
       "        vertical-align: middle;\n",
       "    }\n",
       "\n",
       "    .dataframe tbody tr th {\n",
       "        vertical-align: top;\n",
       "    }\n",
       "\n",
       "    .dataframe thead th {\n",
       "        text-align: right;\n",
       "    }\n",
       "</style>\n",
       "<table border=\"1\" class=\"dataframe\">\n",
       "  <thead>\n",
       "    <tr style=\"text-align: right;\">\n",
       "      <th></th>\n",
       "      <th>sequence</th>\n",
       "      <th>label</th>\n",
       "    </tr>\n",
       "  </thead>\n",
       "  <tbody>\n",
       "    <tr>\n",
       "      <th>5379</th>\n",
       "      <td>MSRTVIRAQPFFLQAAPGSREQLANPRGFTTFVLEASWSTGLRLDT...</td>\n",
       "      <td>1</td>\n",
       "    </tr>\n",
       "    <tr>\n",
       "      <th>17890</th>\n",
       "      <td>MSSHELPFLILNLAVEMIFVLNSRLHAQAVPPERAASVLRDIGTNI...</td>\n",
       "      <td>1</td>\n",
       "    </tr>\n",
       "    <tr>\n",
       "      <th>56401</th>\n",
       "      <td>MEMSLEEFKTMFKTVMKKEFEDELHRITEPGKSKMAIERYIQGINL...</td>\n",
       "      <td>0</td>\n",
       "    </tr>\n",
       "    <tr>\n",
       "      <th>57498</th>\n",
       "      <td>DQNQDWNQPIAVVLHPINADGLQTTQAYIHQLQNTDFQALKSYLSE...</td>\n",
       "      <td>0</td>\n",
       "    </tr>\n",
       "    <tr>\n",
       "      <th>68833</th>\n",
       "      <td>SHMPKEEVVKELEKILEQLKELIKERPTQLGEEIKKVIEHGKEVKK...</td>\n",
       "      <td>0</td>\n",
       "    </tr>\n",
       "    <tr>\n",
       "      <th>...</th>\n",
       "      <td>...</td>\n",
       "      <td>...</td>\n",
       "    </tr>\n",
       "    <tr>\n",
       "      <th>60263</th>\n",
       "      <td>MMFVRLSYHSFDYLFNLFDAGVIDLNTKCPVSLSEIEDYDNFGWLE...</td>\n",
       "      <td>0</td>\n",
       "    </tr>\n",
       "    <tr>\n",
       "      <th>23661</th>\n",
       "      <td>MDFKTYQKQARLTAQYPNLGSNNIYPTLGLVGEAGEVAEKVKKVIR...</td>\n",
       "      <td>1</td>\n",
       "    </tr>\n",
       "    <tr>\n",
       "      <th>9424</th>\n",
       "      <td>GPGSMDLNLIQAFVDIVDAGNLAEAGRRRGVTRSQVSRQLRELEIQ...</td>\n",
       "      <td>1</td>\n",
       "    </tr>\n",
       "    <tr>\n",
       "      <th>63780</th>\n",
       "      <td>GPGSAGRQEEIAEEVARLLAGVLYLEPDRLDPEETFLTLGVDSILG...</td>\n",
       "      <td>0</td>\n",
       "    </tr>\n",
       "    <tr>\n",
       "      <th>56133</th>\n",
       "      <td>QPAATVLFAKQKVISLREGKEYSLSRGSQLEPGDTVVTGAGALINI...</td>\n",
       "      <td>0</td>\n",
       "    </tr>\n",
       "  </tbody>\n",
       "</table>\n",
       "<p>3782 rows × 2 columns</p>\n",
       "</div>"
      ],
      "text/plain": [
       "                                                sequence  label\n",
       "5379   MSRTVIRAQPFFLQAAPGSREQLANPRGFTTFVLEASWSTGLRLDT...      1\n",
       "17890  MSSHELPFLILNLAVEMIFVLNSRLHAQAVPPERAASVLRDIGTNI...      1\n",
       "56401  MEMSLEEFKTMFKTVMKKEFEDELHRITEPGKSKMAIERYIQGINL...      0\n",
       "57498  DQNQDWNQPIAVVLHPINADGLQTTQAYIHQLQNTDFQALKSYLSE...      0\n",
       "68833  SHMPKEEVVKELEKILEQLKELIKERPTQLGEEIKKVIEHGKEVKK...      0\n",
       "...                                                  ...    ...\n",
       "60263  MMFVRLSYHSFDYLFNLFDAGVIDLNTKCPVSLSEIEDYDNFGWLE...      0\n",
       "23661  MDFKTYQKQARLTAQYPNLGSNNIYPTLGLVGEAGEVAEKVKKVIR...      1\n",
       "9424   GPGSMDLNLIQAFVDIVDAGNLAEAGRRRGVTRSQVSRQLRELEIQ...      1\n",
       "63780  GPGSAGRQEEIAEEVARLLAGVLYLEPDRLDPEETFLTLGVDSILG...      0\n",
       "56133  QPAATVLFAKQKVISLREGKEYSLSRGSQLEPGDTVVTGAGALINI...      0\n",
       "\n",
       "[3782 rows x 2 columns]"
      ]
     },
     "execution_count": 34,
     "metadata": {},
     "output_type": "execute_result"
    }
   ],
   "source": [
    "train_df2"
   ]
  },
  {
   "cell_type": "code",
   "execution_count": 36,
   "metadata": {},
   "outputs": [
    {
     "data": {
      "text/plain": [
       "395"
      ]
     },
     "execution_count": 36,
     "metadata": {},
     "output_type": "execute_result"
    }
   ],
   "source": [
    "len(train_df2['sequence'].values[0])"
   ]
  },
  {
   "cell_type": "code",
   "execution_count": 32,
   "metadata": {},
   "outputs": [
    {
     "data": {
      "text/plain": [
       "label\n",
       "0    2356\n",
       "1    1426\n",
       "Name: count, dtype: int64"
      ]
     },
     "execution_count": 32,
     "metadata": {},
     "output_type": "execute_result"
    }
   ],
   "source": [
    "train_df2['label'].value_counts()"
   ]
  },
  {
   "cell_type": "code",
   "execution_count": 33,
   "metadata": {},
   "outputs": [],
   "source": [
    "# Save the to CSV\n",
    "train_df2.to_csv('data/train_sample.csv', index=False)"
   ]
  },
  {
   "cell_type": "code",
   "execution_count": 89,
   "metadata": {},
   "outputs": [
    {
     "data": {
      "text/plain": [
       "count    70031.000000\n",
       "mean       296.768674\n",
       "std        227.740638\n",
       "min         25.000000\n",
       "25%        145.000000\n",
       "50%        239.000000\n",
       "75%        376.000000\n",
       "max       2500.000000\n",
       "Name: sequence_length, dtype: float64"
      ]
     },
     "execution_count": 89,
     "metadata": {},
     "output_type": "execute_result"
    }
   ],
   "source": [
    "train_df['sequence_length'] = train_df['sequence'].apply(len)\n",
    "train_df['sequence_length'].describe()"
   ]
  },
  {
   "cell_type": "code",
   "execution_count": 90,
   "metadata": {},
   "outputs": [
    {
     "data": {
      "text/plain": [
       "label\n",
       "0    42450\n",
       "1    27581\n",
       "Name: count, dtype: int64"
      ]
     },
     "execution_count": 90,
     "metadata": {},
     "output_type": "execute_result"
    }
   ],
   "source": [
    "train_df['label'].value_counts()"
   ]
  },
  {
   "cell_type": "markdown",
   "metadata": {},
   "source": [
    "### Validation Set"
   ]
  },
  {
   "cell_type": "code",
   "execution_count": 91,
   "metadata": {},
   "outputs": [],
   "source": [
    "val_sequences, val_labels = parse_fasta_file('data/validation_dataset.fasta')\n",
    "val_df = pd.DataFrame({'sequence': val_sequences, 'label': val_labels})"
   ]
  },
  {
   "cell_type": "code",
   "execution_count": 92,
   "metadata": {},
   "outputs": [
    {
     "data": {
      "text/plain": [
       "count    4000.000000\n",
       "mean      301.970250\n",
       "std       229.418199\n",
       "min        25.000000\n",
       "25%       151.000000\n",
       "50%       240.000000\n",
       "75%       386.000000\n",
       "max      2413.000000\n",
       "Name: sequence_length, dtype: float64"
      ]
     },
     "execution_count": 92,
     "metadata": {},
     "output_type": "execute_result"
    }
   ],
   "source": [
    "val_df['sequence_length'] = val_df['sequence'].apply(len)\n",
    "val_df['sequence_length'].describe()"
   ]
  },
  {
   "cell_type": "code",
   "execution_count": 93,
   "metadata": {},
   "outputs": [
    {
     "data": {
      "text/plain": [
       "label\n",
       "1    2000\n",
       "0    2000\n",
       "Name: count, dtype: int64"
      ]
     },
     "execution_count": 93,
     "metadata": {},
     "output_type": "execute_result"
    }
   ],
   "source": [
    "val_df['label'].value_counts()"
   ]
  },
  {
   "cell_type": "code",
   "execution_count": 94,
   "metadata": {},
   "outputs": [
    {
     "data": {
      "text/plain": [
       "count    3576.000000\n",
       "mean      242.428971\n",
       "std       125.684389\n",
       "min        25.000000\n",
       "25%       142.000000\n",
       "50%       221.000000\n",
       "75%       327.250000\n",
       "max       556.000000\n",
       "Name: sequence_length, dtype: float64"
      ]
     },
     "execution_count": 94,
     "metadata": {},
     "output_type": "execute_result"
    }
   ],
   "source": [
    "filtered_val_df = val_df[val_df['sequence_length'] <= 556]\n",
    "filtered_val_df['sequence_length'].describe()"
   ]
  },
  {
   "cell_type": "code",
   "execution_count": 95,
   "metadata": {},
   "outputs": [
    {
     "data": {
      "text/plain": [
       "label\n",
       "0    1874\n",
       "1    1702\n",
       "Name: count, dtype: int64"
      ]
     },
     "execution_count": 95,
     "metadata": {},
     "output_type": "execute_result"
    }
   ],
   "source": [
    "filtered_val_df['label'].value_counts()"
   ]
  },
  {
   "cell_type": "markdown",
   "metadata": {},
   "source": [
    "### Test Set"
   ]
  },
  {
   "cell_type": "code",
   "execution_count": 96,
   "metadata": {},
   "outputs": [],
   "source": [
    "test_sequences, test_labels = parse_fasta_file('data/test_dataset.fasta')\n",
    "test_df = pd.DataFrame({'sequence': test_sequences, 'label': test_labels})"
   ]
  },
  {
   "cell_type": "code",
   "execution_count": 97,
   "metadata": {},
   "outputs": [
    {
     "data": {
      "text/plain": [
       "array([['MSTSLLFEQLNFLILVAAEAELPIAHSTRKLLMDNSCNNCQIYELYNENLKDVKTDKDWFMNKFGPQTVHFVISNTINFPFYKIVYFDLLIPVVSHTWVQDSVKTKRHLRTNMYSPNPFHLLRDCQVYISKSSFNKCEYILYSDLLHLLGGTLVNYISNRTTHVIVQSPQDPIIATVSKLTFGSFSSSSTNKHTEKPLREWKFVYPIWILYHFKMAKPLKGELATLCELDMQDTSEEQLFAKWEEVIGDKQTSSSQLTLHPNKTLFKNHHFAISPDLNFFTPLYWFLKGFIEDLDGKVTPLSFSDDLKSVYQAFPDIDCYIGHSANSPILEKTKSIKPEIHVGNVSWLFYMFALQKFTPVSQCKLIHQPFHAKLFTSKELTVAYTNYFGSQRFYIQRLVEILGGLSTPELTRKNTHLITKSTIGKKFKVAKKWSLDPQNAIIVTNHMWLEQCYMNNSKLNPKDSRFQNFKLDDNMGWNIGQIGMDHSSLPTPKNLSMVTYDTQSISEKPPPTN',\n",
       "        0],\n",
       "       ['GPPDLGTDDDDKAMADIASDFPNNKETGEALLTPVDATASSHDGNGPDRLIDQDLTTRWSSAGDGEWAMLDYGSVQEFDAVQASFSKGNERQSKFDIQVSVDGETWTTVLENQLSSGKAIGLERFQFEPAVKARYVRYVGHGNTKNGWNSVTGLAAVNCSINACPASQIITSDVVAAEAVLIAEMKAAEKARKAARKDLRSGNFGVAAVYPCETSVKCDTRSALPVPTGLPATPVAGNAPSENFDMTHWYLSQPFDHDKNGKPDDVSEWNLANGYQHPEIFYTADDGGLVFKSYVKGVRTSKNTKYARTELREMMRRGDQSISTKGVNKNNWVFSSAPEADLEAAAGIDGVLEATLKIDHATTTGNANEVGRFIIGQIHDQNDEPIRLYYRKLPNQPTGAVYFAHESQDATKEDFYPLVGDMTAEVGEDGIALGEVFSYRIDVKGNTMTVTLMREGKDDVVQVVDMSNSGYDVGGKYMYFKAGVYNQNISGDLDDYSQATFYQLDVSHDQYKK',\n",
       "        0],\n",
       "       ['MDKYTNNCNANENIIPFCNYISEISEKCDCNEEKNMYLYGTYNGCTKKSSIEKNTIVHVCNIYERLYCGSRFFELIILTNEKKCMEKITCNDEKTDIFCLFEGEKIYEICSILQEIAVFLKKDKKKEKIILSFIEYNNIDEMNTYNVHILDIYIYLYLRNYLKHTSNTEDENYNILYFYNEKERILNMEKYNYDINHFDIRNWLFNNMSFYLPSKRIDDKCDDNNNKSDHNNNKSGHNNNKSDDNKNNNNNLLTVNKYLNVQNTSKNLSQSHNLSLFRLNSMIDNQTTKLSSKICINKKLPNILINKNDNKNYVCNKQNCTSSIINSSTNVERENSVCYYLKCCTHENGNIFTLHQKQIYDNNFNIYKKFIGHNNIPHIQYIIDIPKELILDNSPFIFTNKKLEYLDTNILNDECAANIPHNQLSSYNFYYVIKIQDENKEKLITDKVIQNIDNNLTYIHKLLKQNYNHNIISIVTQNFHVSYVFTVLKFNLQKKKKKNYEQVRQKFIKFKR',\n",
       "        1],\n",
       "       ['MHSHAPSPLPPDPISADGDDRDFAWYAGDHHIHTTFSRDAMYSVDDQVRRARECGLDWMVITDHGGPDHAKQSVALQTPLIAEARRRHPVLVFQGMEWNIPGAEHATFIAPEHEDTPDLLQRFERAFDGDVLAARQNPTGPRLIEHSVQGGPEAEQLGLDALAWLVEELRTGTVGEALVLSNHPMRTGRVSPSKVRGWRDAAPGVFVGWEGAPGHQAAALPAPLGRGRGRGQYDESPGPWSFPGYDLDQYRTWGGFDAATARMGGLWDALLAEGLPWWITANSDNHFDIGDTVRVGNLSREHYREHGSRGEPVETGVVQHGYVDFAPGFYSRTCVGSPARDYRSVMAALRSGRVFVVHGGLVRAVEGRVRTGPGPGVTFGARTTVERGGDVEVELRVDPATAPNGSGQVPRSARWDVIVGTVTGRVADTDRDLFEAPGTRVVESFEVPARASGRQVFRTTLRGVADPLYVRFRGSDGRHADADGHPRVDRIGDSDPWDDLWCYTNPVFVDVR',\n",
       "        1],\n",
       "       ['SSLRLRASGTSSGGEPQAAQENSGSAAADNNGAARAQREPGIDPVRFSVKLMVGTLALSTGCRLTRHPDDFAKDPGGSIWAAMSLKHRSSQNDLDQGNRTVLERYGAYIPKDSNCFKAKADVTHDIPPGVAGQWNVKTRQVKLNPNIALESHPAEVAGHEFIHCYTHPEFRGRHIDHRHWKALNEGLTTHLTEKLPTPKRLLPIPLAKDPYHGFKLATGDSWPAAAKRIEGAVGEDTLLKAFFGGDDDAISEVAKAAAQIYPRLASSRTEQELYRAGMMRGSQQLAECYAGALLASGQPLPESWSRNMLPVFSFSDMQPEQAKKARLQAEQSQERMGIIFDAAFFSPDLKTQRQALGMLREDLLMHWENVVPDKGCPIEALALKATGKERCSSPPGRYRFHFDQRTGQRQRHYLQSGARRFQGLLGGAEKLRVTGLQACKVKLAAGFLGPHQKHPQLHDIAQIKVLLPEHIAQFVEHRNSLDLSIPVCGRRTRRGVWVSEVRQGAADEHQAG',\n",
       "        0],\n",
       "       ['MTESWSQVFNNPISAADYFFAESLKLQQRNNLLEMEVVEEKAANTMLRNDLKNCKGMLKEQEELLAAEKRKSPVSWERSLTPDKKNRDDLMDSVVLERMNIVPGDQESEDTTVYLSRGICMMHREWMLERKEQQDKLLLLSGSLEMERQQTAETCEIITMLEAELEQEQADAKKKQKSLNREIEKLKERIEKMAAEEPEQEAKKDVCKRNVNHFKLDETCPIQIIKSERIKVAQNEIRELNKQLDAEQDPLKKLEYMDSIREKASLIAQEAMDHAELLNSVLDYERDAHTEIRHRQLRKQKKEIEKLIGEWKVKEKEHQNDMCKLAQQILDQALEFKASNKARAKEHPASSKSEEQSSNKEILSSLEAKLKKEQDDHLVTTNQLNYQSAILNEAQSEIKKLEQLILKNSEELESLQTWKSDSTIREQNLMDENCKQYVDICDLQNTIRGLRFADTRWMEEHLKLNEQVDSMKQGFELVDTGYGPTQGTFGVVEKKKAEEEVTVEEEDYEEW',\n",
       "        1],\n",
       "       ['MRPETIPGISLNEDNSHYFYTRAGRRLSAEEVDSWVDQYAGTQVKELMLCPNCMRTSYASQVWDPIWRGYDPAGPDDQPLLASLPPEERVAARGWIHTAWQLHQDGIDIYARWIRRCRQRGISPWISMRMNDVHYVNDERCFLHSEFWRENPQLRRVPYRFAEWTDRAFDYGRAEVREHHLKLIRELAARYDFDGLELDWMRFGFHFRPGYEAEGAEILTAFTAEVRRLLDDWEKRRGHKIHLGARIPSRPATALGLGMDAVTWARRGLVDMLVITPFWASAETDMPVEIWRQLLEGTGVTLAAGLEVLLRPYPDSPLFQTNSLETVRGAAASLLDRGAQRIYLFNYMDSQTAMEDLENYPTLLREIGSLETLAGKPRRHVLTFADTWAPGEPRAIPLPATCRPGEWRAFRLHTGPKPEPGEVIAALGIEGGVAIGPETLEVRVNGELCAFLGLVDLSKPRPDFPVYGFSVPLAAMRRGYNLIEVTARQELRFGWAEFLIRPWHSHHHHHH',\n",
       "        0],\n",
       "       ['EFDTPTQQLIQDIKENCLNSDVVEQIYKRNPILRYTHHPLHSPLLPLPYGDINLNLLKDKGYTTLQDEAIKIFNSLQQLESMSDPIPIIQGILQTGHDLRPLRDELYCQLIKQTNKVPHPGSVGNLYSWQILTCLSCTFLPSRGILKYLKFHLKRIREQFPGSEMEKYALFTYESLKKTKCREFVPSRDEIEALIHRQEMTSTVYCHGGGSCKITINSHTTAGEVVEKLIRGLAMEDSRNMFALFEYNGHVDKAIESRTVVADVLAKFEKLAATSEVGDLPWKFYFKLYCFLDTDNVPKDSVEFAFMFEQAHEAVIHGHHPAPEENLQVLAALRLQYLQGDYTLHAAIPPLEEVYSLQRLKARISQSTKTQMLDMWIKEEVSSARASIIDKWRKFQGMNQEQAMAKYMALIKEWPGYGSTLFDVECKEGGFPQELWLGVSADAVSVYKRGEGRPLEVFQYEHILSFGAPLANTYKIVVDERELLFETSEVVDVAKLMKAYISMIVKKRYST',\n",
       "        0],\n",
       "       ['KEAKKIMPSASNLKMYWGDLHNHCNITYGHGDMRDAFEAAKGQLDFVSVTPHAMWPDIPGADDPRLKWVIDYHTGAFKRLREGGYEKYVKMTNEYNKEGEFLTFVGYEAHSMEHGDHVALNYDLDAPLVECTSIEDWKQKAKGHKVFITPHHMGYQGGYRGYNWKCFTEGDITPFVEMYSRHGLAESDQGDYPYLHDMGPRQWEGTIQYGLELGNKFGIMASTDQHSGYPGSYGDGRIGVMAPSLTRDAIWEALRTRHVCAATGDKIIIDFCLNDAFMGDVVRGNSRRIYLNVTGESCIDYVDIVKNGQILARMNGPLTPIAPEGDTVRCKVKVDFGWNREEKYVHWQGKLSVDKGQIHSVTPCFRGAAFTSPQEGETEFHTHVNRIVSVGDKETELDMYSSKNPNTTTAAMQAVILDVEMPKDGKIIAEFNGKKFEHTLGELLEGSRSHFMIGWLSEAILFNRAMPESCFTLEHYMEDKEPQRDTDYYYVRVRQRDGQWAWSSPIWAERV',\n",
       "        0],\n",
       "       ['MAATRSTFLGSIFRTVKARVLIPPITRLSLPNPNFTSSRFHTSSSLPQSQIEGSISSSLLQDLSIIHGVIAIASTSQGRLASVSMCTQYSTSVPTRSLRRRISSRKKSSTKPILNESKFQETISKLPPRFTPEELADAITLEEDPFLCFHLFNWASQQPRFTHENCSYHIAIRKLGAAKSGKLIRAVNIFRHMVNSRNLECRPTMRTYHILFKALLGRGNNSFINHLYMETVRSLFRQMVDSGIEPDVFALNCLVKGRTINTRELLSEMKGKGFVPNGKSYNSLVNAFALSGEIDDAVKCLWEMIENGRVVDFISYRTLVDESCRKGKYDEATRLLEMLREKQLVDIDSDDKLKMYQMVILVLLFSSMLPSVCDESRYMIVRNVPALGCGDDLMRLFMTYGEVEECKPMDAEDCAEFTDVYWIKFRLITNARKLDESSFLGNRLQISYAPEYESVSDTKEKLETRRKEVLARLNRKLSIYTSTYFTVSYSSCYNKKDYHWGKWTETVFPQ',\n",
       "        1]], dtype=object)"
      ]
     },
     "execution_count": 97,
     "metadata": {},
     "output_type": "execute_result"
    }
   ],
   "source": [
    "test_df.values[395:405]"
   ]
  },
  {
   "cell_type": "code",
   "execution_count": 98,
   "metadata": {},
   "outputs": [
    {
     "data": {
      "text/plain": [
       "count    4000.000000\n",
       "mean      251.482250\n",
       "std       219.142459\n",
       "min        15.000000\n",
       "25%       113.000000\n",
       "50%       182.000000\n",
       "75%       316.000000\n",
       "max      2128.000000\n",
       "Name: sequence_length, dtype: float64"
      ]
     },
     "execution_count": 98,
     "metadata": {},
     "output_type": "execute_result"
    }
   ],
   "source": [
    "test_df['sequence_length'] = test_df['sequence'].apply(len)\n",
    "test_df['sequence_length'].describe()"
   ]
  },
  {
   "cell_type": "code",
   "execution_count": 99,
   "metadata": {},
   "outputs": [
    {
     "data": {
      "text/plain": [
       "label\n",
       "1    2000\n",
       "0    2000\n",
       "Name: count, dtype: int64"
      ]
     },
     "execution_count": 99,
     "metadata": {},
     "output_type": "execute_result"
    }
   ],
   "source": [
    "test_df['label'].value_counts()"
   ]
  },
  {
   "cell_type": "code",
   "execution_count": 100,
   "metadata": {},
   "outputs": [
    {
     "data": {
      "text/plain": [
       "count    3663.000000\n",
       "mean      201.173628\n",
       "std       120.655066\n",
       "min        15.000000\n",
       "25%       109.000000\n",
       "50%       166.000000\n",
       "75%       272.000000\n",
       "max       556.000000\n",
       "Name: sequence_length, dtype: float64"
      ]
     },
     "execution_count": 100,
     "metadata": {},
     "output_type": "execute_result"
    }
   ],
   "source": [
    "filtered_test_df = test_df[test_df['sequence_length'] <= 556]\n",
    "filtered_test_df['sequence_length'].describe()"
   ]
  },
  {
   "cell_type": "code",
   "execution_count": 101,
   "metadata": {},
   "outputs": [
    {
     "data": {
      "text/plain": [
       "label\n",
       "0    1925\n",
       "1    1738\n",
       "Name: count, dtype: int64"
      ]
     },
     "execution_count": 101,
     "metadata": {},
     "output_type": "execute_result"
    }
   ],
   "source": [
    "filtered_test_df['label'].value_counts()"
   ]
  },
  {
   "cell_type": "code",
   "execution_count": 102,
   "metadata": {},
   "outputs": [
    {
     "data": {
      "image/png": "[encoded data removed]",
      "text/plain": [
       "<Figure size 1200x600 with 1 Axes>"
      ]
     },
     "metadata": {},
     "output_type": "display_data"
    }
   ],
   "source": [
    "# Plot sequence length distribution\n",
    "plt.figure(figsize=(12, 6))\n",
    "plt.hist(train_df['sequence_length'], bins=50, alpha=0.7, label='Train')\n",
    "plt.hist(val_df['sequence_length'], bins=50, alpha=0.7, label='Validation')\n",
    "plt.hist(test_df['sequence_length'], bins=50, alpha=0.7, label='Test')\n",
    "plt.xlabel('Sequence Length')\n",
    "plt.ylabel('Frequency')\n",
    "plt.legend()\n",
    "plt.show()"
   ]
  },
  {
   "cell_type": "code",
   "execution_count": 103,
   "metadata": {},
   "outputs": [
    {
     "name": "stdout",
     "output_type": "stream",
     "text": [
      "(78031, 3)\n",
      "Number of sequences longer than 712: 3895\n",
      "Percentage of sequences longer than 712: 4.99%\n"
     ]
    }
   ],
   "source": [
    "# Concatenate all dataframes\n",
    "all_df = pd.concat([train_df, val_df, test_df])\n",
    "print(all_df.shape)\n",
    "\n",
    "# Count sequences longer than x\n",
    "n = 712\n",
    "long_sequences_count = all_df[all_df['sequence_length'] > n].shape[0]\n",
    "print(f\"Number of sequences longer than {n}: {long_sequences_count}\")\n",
    "print(f\"Percentage of sequences longer than {n}: {long_sequences_count / all_df.shape[0] * 100:.2f}%\")"
   ]
  },
  {
   "cell_type": "code",
   "execution_count": 104,
   "metadata": {},
   "outputs": [
    {
     "data": {
      "image/png": "[encoded data removed]",
      "text/plain": [
       "<Figure size 1200x600 with 1 Axes>"
      ]
     },
     "metadata": {},
     "output_type": "display_data"
    }
   ],
   "source": [
    "# Plot sequence length distribution\n",
    "plt.figure(figsize=(12, 6))\n",
    "plt.hist(all_df['sequence_length'], bins=50, alpha=0.7)\n",
    "plt.xlabel('Sequence Length')\n",
    "plt.ylabel('Frequency')\n",
    "plt.show()"
   ]
  },
  {
   "cell_type": "code",
   "execution_count": 105,
   "metadata": {},
   "outputs": [
    {
     "data": {
      "text/plain": [
       "count    78031.000000\n",
       "mean       294.713857\n",
       "std        227.616232\n",
       "min         15.000000\n",
       "25%        143.000000\n",
       "50%        236.000000\n",
       "75%        374.000000\n",
       "max       2500.000000\n",
       "Name: sequence_length, dtype: float64"
      ]
     },
     "execution_count": 105,
     "metadata": {},
     "output_type": "execute_result"
    }
   ],
   "source": [
    "all_df['sequence_length'].describe()"
   ]
  },
  {
   "cell_type": "code",
   "execution_count": 106,
   "metadata": {},
   "outputs": [
    {
     "name": "stdout",
     "output_type": "stream",
     "text": [
      "The 90th percentile of the sequence length is: 556.0\n"
     ]
    }
   ],
   "source": [
    "percentile_90 = all_df['sequence_length'].quantile(0.90)\n",
    "print(f\"The 90th percentile of the sequence length is: {percentile_90}\")"
   ]
  },
  {
   "cell_type": "code",
   "execution_count": 107,
   "metadata": {},
   "outputs": [
    {
     "name": "stdout",
     "output_type": "stream",
     "text": [
      "MARAGNLAGRRMRKARAAGALTLVGALALAACSGGGGDTNADGEAAELECSSEAVADQPWKAAEPREFSLLWTDWADYPITDTWEFFDEIEKRTNVKLKLTNIPFSDATEKRSLLISAGDAPQIIPLVYTGEERQFAASGAVVPLSDYIDYMPNFKKYTEEWDLVDMVDDLRQEDGKYYMTPGLQEVSVPVFTLIIRKDVFDEVGAPEPDTWEDLQEGLALIKEKYPDSYPLADGFEAWSMINYAAHAFGTVGGWGFGDGAWWDEEKGEFVYAATTDGYKDMVTYFRGLHDAGLLDAESFTASNDGGGTVVEKVAAEKVFAFSGGSWTVQEFGTALEAAGVTDYELVQIAPPAGPAGNNVEPRNFWNGFMLTADAAKDENFCDLLHFTDWLYYNPEARELIQWGVEGKHFTKEGGKYTLNPEFSLKNLNMNPDAPVDLKKDLGYANDVFAGSTESRELKESYNVPAFVQYIDDVQTKREPREPFPPHPLDEAELEQSSLLGTPLKDTVDTATLEFILGQRPLSDWDAYVAQLEGQGLQSYMDLINGAYKRAAEGQD\n"
     ]
    }
   ],
   "source": [
    "# Filter sequences with length between 700 and 720\n",
    "filtered_sequences = all_df[(all_df['sequence_length'] >= 556) & (all_df['sequence_length'] <= 556)]\n",
    "\n",
    "filtered_sequences\n",
    "print(filtered_sequences['sequence'].values[0])"
   ]
  }
 ],
 "metadata": {
  "kernelspec": {
   "display_name": "Python 3",
   "language": "python",
   "name": "python3"
  },
  "language_info": {
   "codemirror_mode": {
    "name": "ipython",
    "version": 3
   },
   "file_extension": ".py",
   "mimetype": "text/x-python",
   "name": "python",
   "nbconvert_exporter": "python",
   "pygments_lexer": "ipython3",
   "version": "3.8.20"
  }
 },
 "nbformat": 4,
 "nbformat_minor": 2
}
